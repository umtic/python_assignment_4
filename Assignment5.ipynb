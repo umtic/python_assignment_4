{
 "cells": [
  {
   "cell_type": "code",
   "execution_count": 1,
   "metadata": {},
   "outputs": [],
   "source": [
    "#BBM103-Assignment5\n",
    "#Umut Bayindir-b2210356147\n",
    "import pandas as pd, numpy as np, math\n",
    "df=pd.read_excel('16P.xlsx')\n",
    "df.drop(columns='Response Id',inplace=True)"
   ]
  },
  {
   "cell_type": "code",
   "execution_count": 2,
   "metadata": {},
   "outputs": [],
   "source": [
    "p16=df['Personality']\n",
    "q1=df['You regularly make new friends.']\n",
    "q2=df['You spend a lot of your free time exploring various random topics that pique your interest']\n",
    "q3=df['Seeing other people cry can easily make you feel like you want to cry too']\n",
    "q4=df['You often make a backup plan for a backup plan.']\n",
    "q5=df['You usually stay calm, even under a lot of pressure']\n",
    "q6=df['At social events, you rarely try to introduce yourself to new people and mostly talk to the ones you already know']\n",
    "q7=df['You prefer to completely finish one project before starting another.']\n",
    "q8=df['You are very sentimental.']\n",
    "q9=df['You like to use organizing tools like schedules and lists.']\n",
    "q10=df['Even a small mistake can cause you to doubt your overall abilities and knowledge.']\n",
    "q11=df['You feel comfortable just walking up to someone you find interesting and striking up a conversation.']\n",
    "q12=df['You are not too interested in discussing various interpretations and analyses of creative works.']\n",
    "q13=df['You are more inclined to follow your head than your heart.']\n",
    "q14=df['You usually prefer just doing what you feel like at any given moment instead of planning a particular daily routine.']\n",
    "q15=df['You rarely worry about whether you make a good impression on people you meet.']\n",
    "q16=df['You enjoy participating in group activities.']\n",
    "q17=df['You like books and movies that make you come up with your own interpretation of the ending.']\n",
    "q18=df['Your happiness comes more from helping others accomplish things than your own accomplishments.']\n",
    "q19=df['You are interested in so many things that you find it difficult to choose what to try next.']\n",
    "q20=df['You are prone to worrying that things will take a turn for the worse.']\n",
    "q21=df['You avoid leadership roles in group settings.']\n",
    "q22=df['You are definitely not an artistic type of person.']\n",
    "q23=df['You think the world would be a better place if people relied more on rationality and less on their feelings.']\n",
    "q24=df['You prefer to do your chores before allowing yourself to relax.']\n",
    "q25=df['You enjoy watching people argue.']\n",
    "q26=df['You tend to avoid drawing attention to yourself.']\n",
    "q27=df['Your mood can change very quickly.']\n",
    "q28=df['You lose patience with people who are not as efficient as you.']\n",
    "q29=df['You often end up doing things at the last possible moment.']\n",
    "q30=df['You have always been fascinated by the question of what, if anything, happens after death.']\n",
    "q31=df['You usually prefer to be around others rather than on your own.']\n",
    "q32=df['You become bored or lose interest when the discussion gets highly theoretical.']\n",
    "q33=df['You find it easy to empathize with a person whose experiences are very different from yours.']\n",
    "q34=df['You usually postpone finalizing decisions for as long as possible.']\n",
    "q35=df['You rarely second-guess the choices that you have made.']\n",
    "q36=df['After a long and exhausting week, a lively social event is just what you need.']\n",
    "q37=df['You enjoy going to art museums.']\n",
    "q38=df['You often have a hard time understanding other peoples feelings.']\n",
    "q39=df['You like to have a to-do list for each day.']\n",
    "q40=df['You rarely feel insecure.']\n",
    "q41=df['You avoid making phone calls.']\n",
    "q42=df['You often spend a lot of time trying to understand views that are very different from your own.']\n",
    "q43=df['In your social circle, you are often the one who contacts your friends and initiates activities.']\n",
    "q44=df['If your plans are interrupted, your top priority is to get back on track as soon as possible.']\n",
    "q45=df['You are still bothered by mistakes that you made a long time ago.']\n",
    "q46=df['You rarely contemplate the reasons for human existence or the meaning of life.']\n",
    "q47=df['Your emotions control you more than you control them.']\n",
    "q48=df['You take great care not to make people look bad, even when it is completely their fault.']\n",
    "q49=df['Your personal work style is closer to spontaneous bursts of energy than organized and consistent efforts.']\n",
    "q50=df['When someone thinks highly of you, you wonder how long it will take them to feel disappointed in you.']\n",
    "q51=df['You would love a job that requires you to work alone most of the time.']\n",
    "q52=df['You believe that pondering abstract philosophical questions is a waste of time.']\n",
    "q53=df['You feel more drawn to places with busy, bustling atmospheres than quiet, intimate places.']\n",
    "q54=df['You know at first glance how someone is feeling.']\n",
    "q55=df['You often feel overwhelmed.']\n",
    "q56=df['You complete things methodically without skipping over any steps.']\n",
    "q57=df['You are very intrigued by things labeled as controversial.']\n",
    "q58=df['You would pass along a good opportunity if you thought someone else needed it more.']\n",
    "q59=df['You struggle with deadlines.']\n",
    "q60=df['You feel confident that things will work out for you.']"
   ]
  },
  {
   "cell_type": "code",
   "execution_count": 3,
   "metadata": {},
   "outputs": [],
   "source": [
    "p16=p16.replace('ESTJ',0)\n",
    "p16=p16.replace('ENTJ',1)\n",
    "p16=p16.replace('ESFJ',2)\n",
    "p16=p16.replace('ENFJ',3)\n",
    "p16=p16.replace('ISTJ',4)\n",
    "p16=p16.replace('ISFJ',5)\n",
    "p16=p16.replace('INTJ',6)\n",
    "p16=p16.replace('INFJ',7)\n",
    "p16=p16.replace('ESTP',8)\n",
    "p16=p16.replace('ESFP',9)\n",
    "p16=p16.replace('ENTP',10)\n",
    "p16=p16.replace('ENFP',11)\n",
    "p16=p16.replace('ISTP',12)\n",
    "p16=p16.replace('ISFP',13)\n",
    "p16=p16.replace('INTP',14)\n",
    "p16=p16.replace('INFP',15)"
   ]
  },
  {
   "cell_type": "code",
   "execution_count": 25,
   "metadata": {},
   "outputs": [],
   "source": [
    "kNNarray=np.array([q1,q2,q3,q4,q5,q6,q7,q8,q9,q10,q11,q12,q13,q14,q15,q16,q17,q18,q19,q20,q21,q22,q23,q24,q25,q26,q27,q28,q29,q30,\n",
    "q31,q32,q33,q34,q35,q36,q37,q38,q39,q40,q41,q42,q43,q44,q45,q46,q47,q48,q49,q50,q51,q52,q53,q54,q55,q56,q57,q58,q59,q60])"
   ]
  },
  {
   "cell_type": "code",
   "execution_count": 42,
   "metadata": {},
   "outputs": [],
   "source": [
    "#Feature Normalization\n",
    "FNtemplist=[]\n",
    "for i in range(1,61):\n",
    "    FNtemplist.append([])\n",
    "for i in range(len(FNtemplist)):\n",
    "    for j in range(59999):\n",
    "        if kNNarray[i][j] in [-3,-2,-1,0]:\n",
    "            FNtemplist[i].append(0)\n",
    "        else:\n",
    "            FNtemplist[i].append(1)"
   ]
  },
  {
   "cell_type": "code",
   "execution_count": 13,
   "metadata": {},
   "outputs": [],
   "source": [
    "def fprecision(x):\n",
    "    tp=0\n",
    "    for i in range(59999):\n",
    "        if x[i]==p16[i]:\n",
    "            tp=tp+1\n",
    "    precision=tp/59999\n",
    "    return precision"
   ]
  },
  {
   "cell_type": "code",
   "execution_count": 5,
   "metadata": {},
   "outputs": [
    {
     "ename": "KeyboardInterrupt",
     "evalue": "",
     "output_type": "error",
     "traceback": [
      "\u001b[1;31m---------------------------------------------------------------------------\u001b[0m",
      "\u001b[1;31mKeyboardInterrupt\u001b[0m                         Traceback (most recent call last)",
      "\u001b[1;32m~\\AppData\\Local\\Temp\\ipykernel_9344\\3829848631.py\u001b[0m in \u001b[0;36m<module>\u001b[1;34m\u001b[0m\n\u001b[0;32m      4\u001b[0m     \u001b[0mdist\u001b[0m\u001b[1;33m=\u001b[0m\u001b[1;33m[\u001b[0m\u001b[1;33m]\u001b[0m\u001b[1;33m\u001b[0m\u001b[1;33m\u001b[0m\u001b[0m\n\u001b[0;32m      5\u001b[0m     \u001b[1;32mfor\u001b[0m \u001b[0mj\u001b[0m \u001b[1;32min\u001b[0m \u001b[0mrange\u001b[0m\u001b[1;33m(\u001b[0m\u001b[1;36m59999\u001b[0m\u001b[1;33m)\u001b[0m\u001b[1;33m:\u001b[0m\u001b[1;33m\u001b[0m\u001b[1;33m\u001b[0m\u001b[0m\n\u001b[1;32m----> 6\u001b[1;33m         \u001b[0mdist\u001b[0m\u001b[1;33m.\u001b[0m\u001b[0mappend\u001b[0m\u001b[1;33m(\u001b[0m\u001b[0mmath\u001b[0m\u001b[1;33m.\u001b[0m\u001b[0mdist\u001b[0m\u001b[1;33m(\u001b[0m\u001b[0mkNNarray\u001b[0m\u001b[1;33m[\u001b[0m\u001b[1;33m:\u001b[0m\u001b[1;33m,\u001b[0m\u001b[0mi\u001b[0m\u001b[1;33m]\u001b[0m\u001b[1;33m,\u001b[0m\u001b[0mkNNarray\u001b[0m\u001b[1;33m[\u001b[0m\u001b[1;33m:\u001b[0m\u001b[1;33m,\u001b[0m\u001b[0mj\u001b[0m\u001b[1;33m]\u001b[0m\u001b[1;33m)\u001b[0m\u001b[1;33m)\u001b[0m\u001b[1;33m\u001b[0m\u001b[1;33m\u001b[0m\u001b[0m\n\u001b[0m\u001b[0;32m      7\u001b[0m     \u001b[0mdistsort\u001b[0m\u001b[1;33m=\u001b[0m\u001b[0mdist\u001b[0m\u001b[1;33m.\u001b[0m\u001b[0mcopy\u001b[0m\u001b[1;33m(\u001b[0m\u001b[1;33m)\u001b[0m\u001b[1;33m\u001b[0m\u001b[1;33m\u001b[0m\u001b[0m\n\u001b[0;32m      8\u001b[0m     \u001b[0mdistsort\u001b[0m\u001b[1;33m.\u001b[0m\u001b[0msort\u001b[0m\u001b[1;33m(\u001b[0m\u001b[1;33m)\u001b[0m\u001b[1;33m\u001b[0m\u001b[1;33m\u001b[0m\u001b[0m\n",
      "\u001b[1;31mKeyboardInterrupt\u001b[0m: "
     ]
    }
   ],
   "source": [
    "#k=1 without Feature Normalization\n",
    "dictresult={}\n",
    "for i in range(59999):\n",
    "    dist=[]\n",
    "    for j in range(59999):\n",
    "        dist.append(math.dist(kNNarray[:,i],kNNarray[:,j]))\n",
    "    distsort=dist.copy()\n",
    "    distsort.sort()\n",
    "    a=dist.index(distsort[1])\n",
    "    dictresult.update({i : p16[a]})\n",
    "    print(i,dictresult[i])"
   ]
  },
  {
   "cell_type": "code",
   "execution_count": null,
   "metadata": {},
   "outputs": [],
   "source": [
    "#k=1 with Feature Normalization\n",
    "dictresult={}\n",
    "for i in range(59999):\n",
    "    dist=[]\n",
    "    for j in range(59999):\n",
    "        dist.append(math.dist(kNNarray[:,i],kNNarray[:,j]))\n",
    "    distsort=dist.copy()\n",
    "    distsort.sort()\n",
    "    a=dist.index(distsort[1])\n",
    "    dictresult.update({i : p16[a]})\n",
    "    print(i,dictresult[i])"
   ]
  },
  {
   "cell_type": "code",
   "execution_count": null,
   "metadata": {},
   "outputs": [],
   "source": [
    "print(fprecision(dictresult))"
   ]
  },
  {
   "cell_type": "code",
   "execution_count": 8,
   "metadata": {},
   "outputs": [],
   "source": [
    "#This function is used if k is above 1.\n",
    "def frequency(x):\n",
    "    numbers=[]\n",
    "    repeaters=[]\n",
    "    for j in range(len(x)):\n",
    "        if x[j] in numbers:\n",
    "            repeaters.append(x[j])\n",
    "        else:\n",
    "            numbers.append(x[j])\n",
    "    if len(repeaters)==0:\n",
    "        return numbers\n",
    "    if len(repeaters)==1:\n",
    "        return repeaters\n",
    "    if len(repeaters)>1:\n",
    "        return frequency(repeaters)"
   ]
  },
  {
   "cell_type": "code",
   "execution_count": 29,
   "metadata": {},
   "outputs": [
    {
     "name": "stdout",
     "output_type": "stream",
     "text": [
      "0 3\n",
      "1 6\n",
      "2 6\n",
      "3 15\n",
      "4 12\n",
      "5 13\n",
      "6 6\n",
      "7 13\n",
      "8 13\n",
      "9 9\n",
      "10 3\n",
      "11 12\n",
      "12 7\n",
      "13 13\n",
      "14 14\n",
      "15 6\n",
      "16 9\n",
      "17 13\n",
      "18 6\n",
      "19 15\n",
      "20 13\n",
      "21 15\n",
      "22 3\n",
      "23 6\n",
      "24 3\n",
      "25 11\n",
      "26 11\n",
      "27 12\n",
      "28 6\n",
      "29 6\n",
      "30 11\n",
      "31 11\n",
      "32 11\n",
      "33 11\n",
      "34 1\n",
      "35 3\n",
      "36 15\n",
      "37 11\n",
      "38 13\n",
      "39 15\n",
      "40 13\n",
      "41 14\n"
     ]
    },
    {
     "ename": "KeyboardInterrupt",
     "evalue": "",
     "output_type": "error",
     "traceback": [
      "\u001b[1;31m---------------------------------------------------------------------------\u001b[0m",
      "\u001b[1;31mKeyboardInterrupt\u001b[0m                         Traceback (most recent call last)",
      "\u001b[1;32m~\\AppData\\Local\\Temp\\ipykernel_9344\\1710960904.py\u001b[0m in \u001b[0;36m<module>\u001b[1;34m\u001b[0m\n\u001b[0;32m      5\u001b[0m     \u001b[0mprocess\u001b[0m\u001b[1;33m=\u001b[0m\u001b[1;33m[\u001b[0m\u001b[1;33m]\u001b[0m\u001b[1;33m\u001b[0m\u001b[1;33m\u001b[0m\u001b[0m\n\u001b[0;32m      6\u001b[0m     \u001b[1;32mfor\u001b[0m \u001b[0mj\u001b[0m \u001b[1;32min\u001b[0m \u001b[0mrange\u001b[0m\u001b[1;33m(\u001b[0m\u001b[1;36m59999\u001b[0m\u001b[1;33m)\u001b[0m\u001b[1;33m:\u001b[0m\u001b[1;33m\u001b[0m\u001b[1;33m\u001b[0m\u001b[0m\n\u001b[1;32m----> 7\u001b[1;33m         \u001b[0mdist\u001b[0m\u001b[1;33m.\u001b[0m\u001b[0mappend\u001b[0m\u001b[1;33m(\u001b[0m\u001b[0mmath\u001b[0m\u001b[1;33m.\u001b[0m\u001b[0mdist\u001b[0m\u001b[1;33m(\u001b[0m\u001b[0mkNNarray\u001b[0m\u001b[1;33m[\u001b[0m\u001b[1;33m:\u001b[0m\u001b[1;33m,\u001b[0m\u001b[0mi\u001b[0m\u001b[1;33m]\u001b[0m\u001b[1;33m,\u001b[0m\u001b[0mkNNarray\u001b[0m\u001b[1;33m[\u001b[0m\u001b[1;33m:\u001b[0m\u001b[1;33m,\u001b[0m\u001b[0mj\u001b[0m\u001b[1;33m]\u001b[0m\u001b[1;33m)\u001b[0m\u001b[1;33m)\u001b[0m\u001b[1;33m\u001b[0m\u001b[1;33m\u001b[0m\u001b[0m\n\u001b[0m\u001b[0;32m      8\u001b[0m     \u001b[0mdistsort\u001b[0m\u001b[1;33m=\u001b[0m\u001b[0mdist\u001b[0m\u001b[1;33m.\u001b[0m\u001b[0mcopy\u001b[0m\u001b[1;33m(\u001b[0m\u001b[1;33m)\u001b[0m\u001b[1;33m\u001b[0m\u001b[1;33m\u001b[0m\u001b[0m\n\u001b[0;32m      9\u001b[0m     \u001b[0mdistsort\u001b[0m\u001b[1;33m.\u001b[0m\u001b[0msort\u001b[0m\u001b[1;33m(\u001b[0m\u001b[1;33m)\u001b[0m\u001b[1;33m\u001b[0m\u001b[1;33m\u001b[0m\u001b[0m\n",
      "\u001b[1;31mKeyboardInterrupt\u001b[0m: "
     ]
    }
   ],
   "source": [
    "#k=3 without Feature Normalization\n",
    "dictresult={}\n",
    "for i in range(59999):\n",
    "    dist=[]\n",
    "    process=[]\n",
    "    for j in range(59999):\n",
    "        dist.append(math.dist(kNNarray[:,i],kNNarray[:,j]))\n",
    "    distsort=dist.copy()\n",
    "    distsort.sort()\n",
    "    process.append(p16[dist.index(distsort[1])])\n",
    "    process.append(p16[dist.index(distsort[2])])\n",
    "    process.append(p16[dist.index(distsort[3])])\n",
    "    resultlist=frequency(process)\n",
    "    if len(resultlist)==1:\n",
    "        dictresult.update({i : p16[resultlist[0]]})\n",
    "    if len(resultlist)>1:  \n",
    "        dictresult.update({i : p16[distsort[1]]})\n",
    "    print(i,dictresult[i])"
   ]
  },
  {
   "cell_type": "code",
   "execution_count": null,
   "metadata": {},
   "outputs": [],
   "source": [
    "print(fprecision(dictresult))"
   ]
  },
  {
   "cell_type": "code",
   "execution_count": null,
   "metadata": {},
   "outputs": [],
   "source": [
    "#k=5 without Feature Normalization\n",
    "dictresult={}\n",
    "for i in range(59999):\n",
    "    dist=[]\n",
    "    process=[]\n",
    "    for j in range(59999):\n",
    "        dist.append(math.dist(kNNarray[:,i],kNNarray[:,j]))\n",
    "    distsort=dist.copy()\n",
    "    distsort.sort()\n",
    "    process.append(p16[dist.index(distsort[1])])\n",
    "    process.append(p16[dist.index(distsort[2])])\n",
    "    process.append(p16[dist.index(distsort[3])])\n",
    "    process.append(p16[dist.index(distsort[4])])\n",
    "    process.append(p16[dist.index(distsort[5])])\n",
    "    resultlist=frequency(process)\n",
    "    if len(resultlist)==1:\n",
    "        dictresult.update({i : p16[resultlist[0]]})\n",
    "    if len(resultlist)>1:  \n",
    "        dictresult.update({i : p16[distsort[1]]})\n",
    "    print(i,dictresult[i])"
   ]
  },
  {
   "cell_type": "code",
   "execution_count": null,
   "metadata": {},
   "outputs": [],
   "source": [
    "print(fprecision(dictresult))"
   ]
  },
  {
   "cell_type": "code",
   "execution_count": 30,
   "metadata": {},
   "outputs": [
    {
     "name": "stdout",
     "output_type": "stream",
     "text": [
      "0 3\n",
      "1 6\n",
      "2 6\n",
      "3 15\n",
      "4 12\n",
      "5 13\n",
      "6 6\n",
      "7 13\n",
      "8 13\n",
      "9 9\n",
      "10 3\n",
      "11 12\n",
      "12 7\n",
      "13 13\n",
      "14 14\n",
      "15 6\n",
      "16 9\n",
      "17 13\n"
     ]
    },
    {
     "ename": "KeyboardInterrupt",
     "evalue": "",
     "output_type": "error",
     "traceback": [
      "\u001b[1;31m---------------------------------------------------------------------------\u001b[0m",
      "\u001b[1;31mKeyboardInterrupt\u001b[0m                         Traceback (most recent call last)",
      "\u001b[1;32m~\\AppData\\Local\\Temp\\ipykernel_9344\\2902220545.py\u001b[0m in \u001b[0;36m<module>\u001b[1;34m\u001b[0m\n\u001b[0;32m      5\u001b[0m     \u001b[0mprocess\u001b[0m\u001b[1;33m=\u001b[0m\u001b[1;33m[\u001b[0m\u001b[1;33m]\u001b[0m\u001b[1;33m\u001b[0m\u001b[1;33m\u001b[0m\u001b[0m\n\u001b[0;32m      6\u001b[0m     \u001b[1;32mfor\u001b[0m \u001b[0mj\u001b[0m \u001b[1;32min\u001b[0m \u001b[0mrange\u001b[0m\u001b[1;33m(\u001b[0m\u001b[1;36m59999\u001b[0m\u001b[1;33m)\u001b[0m\u001b[1;33m:\u001b[0m\u001b[1;33m\u001b[0m\u001b[1;33m\u001b[0m\u001b[0m\n\u001b[1;32m----> 7\u001b[1;33m         \u001b[0mdist\u001b[0m\u001b[1;33m.\u001b[0m\u001b[0mappend\u001b[0m\u001b[1;33m(\u001b[0m\u001b[0mmath\u001b[0m\u001b[1;33m.\u001b[0m\u001b[0mdist\u001b[0m\u001b[1;33m(\u001b[0m\u001b[0mkNNarray\u001b[0m\u001b[1;33m[\u001b[0m\u001b[1;33m:\u001b[0m\u001b[1;33m,\u001b[0m\u001b[0mi\u001b[0m\u001b[1;33m]\u001b[0m\u001b[1;33m,\u001b[0m\u001b[0mkNNarray\u001b[0m\u001b[1;33m[\u001b[0m\u001b[1;33m:\u001b[0m\u001b[1;33m,\u001b[0m\u001b[0mj\u001b[0m\u001b[1;33m]\u001b[0m\u001b[1;33m)\u001b[0m\u001b[1;33m)\u001b[0m\u001b[1;33m\u001b[0m\u001b[1;33m\u001b[0m\u001b[0m\n\u001b[0m\u001b[0;32m      8\u001b[0m     \u001b[0mdistsort\u001b[0m\u001b[1;33m=\u001b[0m\u001b[0mdist\u001b[0m\u001b[1;33m.\u001b[0m\u001b[0mcopy\u001b[0m\u001b[1;33m(\u001b[0m\u001b[1;33m)\u001b[0m\u001b[1;33m\u001b[0m\u001b[1;33m\u001b[0m\u001b[0m\n\u001b[0;32m      9\u001b[0m     \u001b[0mdistsort\u001b[0m\u001b[1;33m.\u001b[0m\u001b[0msort\u001b[0m\u001b[1;33m(\u001b[0m\u001b[1;33m)\u001b[0m\u001b[1;33m\u001b[0m\u001b[1;33m\u001b[0m\u001b[0m\n",
      "\u001b[1;31mKeyboardInterrupt\u001b[0m: "
     ]
    }
   ],
   "source": [
    "#k=7 without Feature Normalization\n",
    "dictresult={}\n",
    "for i in range(59999):\n",
    "    dist=[]\n",
    "    process=[]\n",
    "    for j in range(59999):\n",
    "        dist.append(math.dist(kNNarray[:,i],kNNarray[:,j]))\n",
    "    distsort=dist.copy()\n",
    "    distsort.sort()\n",
    "    process.append(p16[dist.index(distsort[1])])\n",
    "    process.append(p16[dist.index(distsort[2])])\n",
    "    process.append(p16[dist.index(distsort[3])])\n",
    "    process.append(p16[dist.index(distsort[4])])\n",
    "    process.append(p16[dist.index(distsort[5])])\n",
    "    process.append(p16[dist.index(distsort[6])])\n",
    "    process.append(p16[dist.index(distsort[7])])\n",
    "    resultlist=frequency(process)\n",
    "    if len(resultlist)==1:\n",
    "        dictresult.update({i : p16[resultlist[0]]})\n",
    "    if len(resultlist)>1:  \n",
    "        dictresult.update({i : p16[distsort[1]]})\n",
    "    print(i,dictresult[i])"
   ]
  },
  {
   "cell_type": "code",
   "execution_count": null,
   "metadata": {},
   "outputs": [],
   "source": [
    "print(fprecision(dictresult))"
   ]
  },
  {
   "cell_type": "code",
   "execution_count": 31,
   "metadata": {},
   "outputs": [
    {
     "name": "stdout",
     "output_type": "stream",
     "text": [
      "0 3\n",
      "1 6\n",
      "2 6\n",
      "3 15\n",
      "4 12\n",
      "5 13\n",
      "6 6\n",
      "7 13\n",
      "8 13\n",
      "9 9\n",
      "10 3\n",
      "11 12\n",
      "12 7\n",
      "13 13\n",
      "14 14\n",
      "15 6\n",
      "16 9\n",
      "17 13\n",
      "18 6\n",
      "19 15\n",
      "20 13\n",
      "21 15\n",
      "22 3\n",
      "23 6\n",
      "24 3\n",
      "25 11\n",
      "26 11\n",
      "27 12\n"
     ]
    },
    {
     "ename": "KeyboardInterrupt",
     "evalue": "",
     "output_type": "error",
     "traceback": [
      "\u001b[1;31m---------------------------------------------------------------------------\u001b[0m",
      "\u001b[1;31mKeyboardInterrupt\u001b[0m                         Traceback (most recent call last)",
      "\u001b[1;32m~\\AppData\\Local\\Temp\\ipykernel_9344\\3774442962.py\u001b[0m in \u001b[0;36m<module>\u001b[1;34m\u001b[0m\n\u001b[0;32m      5\u001b[0m     \u001b[0mprocess\u001b[0m\u001b[1;33m=\u001b[0m\u001b[1;33m[\u001b[0m\u001b[1;33m]\u001b[0m\u001b[1;33m\u001b[0m\u001b[1;33m\u001b[0m\u001b[0m\n\u001b[0;32m      6\u001b[0m     \u001b[1;32mfor\u001b[0m \u001b[0mj\u001b[0m \u001b[1;32min\u001b[0m \u001b[0mrange\u001b[0m\u001b[1;33m(\u001b[0m\u001b[1;36m59999\u001b[0m\u001b[1;33m)\u001b[0m\u001b[1;33m:\u001b[0m\u001b[1;33m\u001b[0m\u001b[1;33m\u001b[0m\u001b[0m\n\u001b[1;32m----> 7\u001b[1;33m         \u001b[0mdist\u001b[0m\u001b[1;33m.\u001b[0m\u001b[0mappend\u001b[0m\u001b[1;33m(\u001b[0m\u001b[0mmath\u001b[0m\u001b[1;33m.\u001b[0m\u001b[0mdist\u001b[0m\u001b[1;33m(\u001b[0m\u001b[0mkNNarray\u001b[0m\u001b[1;33m[\u001b[0m\u001b[1;33m:\u001b[0m\u001b[1;33m,\u001b[0m\u001b[0mi\u001b[0m\u001b[1;33m]\u001b[0m\u001b[1;33m,\u001b[0m\u001b[0mkNNarray\u001b[0m\u001b[1;33m[\u001b[0m\u001b[1;33m:\u001b[0m\u001b[1;33m,\u001b[0m\u001b[0mj\u001b[0m\u001b[1;33m]\u001b[0m\u001b[1;33m)\u001b[0m\u001b[1;33m)\u001b[0m\u001b[1;33m\u001b[0m\u001b[1;33m\u001b[0m\u001b[0m\n\u001b[0m\u001b[0;32m      8\u001b[0m     \u001b[0mdistsort\u001b[0m\u001b[1;33m=\u001b[0m\u001b[0mdist\u001b[0m\u001b[1;33m.\u001b[0m\u001b[0mcopy\u001b[0m\u001b[1;33m(\u001b[0m\u001b[1;33m)\u001b[0m\u001b[1;33m\u001b[0m\u001b[1;33m\u001b[0m\u001b[0m\n\u001b[0;32m      9\u001b[0m     \u001b[0mdistsort\u001b[0m\u001b[1;33m.\u001b[0m\u001b[0msort\u001b[0m\u001b[1;33m(\u001b[0m\u001b[1;33m)\u001b[0m\u001b[1;33m\u001b[0m\u001b[1;33m\u001b[0m\u001b[0m\n",
      "\u001b[1;31mKeyboardInterrupt\u001b[0m: "
     ]
    }
   ],
   "source": [
    "#k=9 without Feature Normalization\n",
    "dictresult={}\n",
    "for i in range(59999):\n",
    "    dist=[]\n",
    "    process=[]\n",
    "    for j in range(59999):\n",
    "        dist.append(math.dist(kNNarray[:,i],kNNarray[:,j]))\n",
    "    distsort=dist.copy()\n",
    "    distsort.sort()\n",
    "    process.append(p16[dist.index(distsort[1])])\n",
    "    process.append(p16[dist.index(distsort[2])])\n",
    "    process.append(p16[dist.index(distsort[3])])\n",
    "    process.append(p16[dist.index(distsort[4])])\n",
    "    process.append(p16[dist.index(distsort[5])])\n",
    "    process.append(p16[dist.index(distsort[6])])\n",
    "    process.append(p16[dist.index(distsort[7])])\n",
    "    process.append(p16[dist.index(distsort[8])])\n",
    "    process.append(p16[dist.index(distsort[9])])    \n",
    "    resultlist=frequency(process)\n",
    "    if len(resultlist)==1:\n",
    "        dictresult.update({i : p16[resultlist[0]]})\n",
    "    if len(resultlist)>1:  \n",
    "        dictresult.update({i : p16[distsort[1]]})\n",
    "    print(i,dictresult[i])"
   ]
  },
  {
   "cell_type": "code",
   "execution_count": null,
   "metadata": {},
   "outputs": [],
   "source": [
    "print(fprecision(dictresult))"
   ]
  }
 ],
 "metadata": {
  "kernelspec": {
   "display_name": "base",
   "language": "python",
   "name": "python3"
  },
  "language_info": {
   "codemirror_mode": {
    "name": "ipython",
    "version": 3
   },
   "file_extension": ".py",
   "mimetype": "text/x-python",
   "name": "python",
   "nbconvert_exporter": "python",
   "pygments_lexer": "ipython3",
   "version": "3.9.13 (main, Aug 25 2022, 23:51:50) [MSC v.1916 64 bit (AMD64)]"
  },
  "vscode": {
   "interpreter": {
    "hash": "a077222d77dfe082b8f1dd562ad70e458ac2ab76993a0b248ab0476e32e9e8dd"
   }
  }
 },
 "nbformat": 4,
 "nbformat_minor": 2
}
